{
 "cells": [
  {
   "cell_type": "code",
   "execution_count": 6,
   "id": "00353a0c-9e87-46e7-8d4a-a15825c891aa",
   "metadata": {},
   "outputs": [
    {
     "name": "stderr",
     "output_type": "stream",
     "text": [
      "[nltk_data] Downloading package stopwords to\n",
      "[nltk_data]     C:\\Users\\Asus\\AppData\\Roaming\\nltk_data...\n",
      "[nltk_data]   Package stopwords is already up-to-date!\n",
      "[nltk_data] Downloading package wordnet to\n",
      "[nltk_data]     C:\\Users\\Asus\\AppData\\Roaming\\nltk_data...\n",
      "[nltk_data]   Package wordnet is already up-to-date!\n"
     ]
    },
    {
     "data": {
      "text/plain": [
       "True"
      ]
     },
     "execution_count": 6,
     "metadata": {},
     "output_type": "execute_result"
    }
   ],
   "source": [
    "# 1. Import libraries\n",
    "import pandas as pd\n",
    "import numpy as np\n",
    "import nltk\n",
    "import re\n",
    "from nltk.corpus import stopwords\n",
    "from nltk.stem import WordNetLemmatizer\n",
    "from sklearn.model_selection import train_test_split\n",
    "from sklearn.feature_extraction.text import TfidfVectorizer\n",
    "from tensorflow.keras.models import Sequential\n",
    "from tensorflow.keras.layers import Dense, Dropout\n",
    "from sklearn.preprocessing import LabelEncoder\n",
    "from sklearn.utils import shuffle\n",
    "\n",
    "nltk.download('stopwords')\n",
    "nltk.download('wordnet')"
   ]
  },
  {
   "cell_type": "code",
   "execution_count": 7,
   "id": "7d40dba2-c7c3-4168-a70b-199ddbc7647a",
   "metadata": {},
   "outputs": [],
   "source": [
    "# 2. Load and filter dataset\n",
    "df = pd.read_csv(\"imdb_master.csv\", encoding=\"latin-1\")\n",
    "df = df[df['label'].isin(['pos', 'neg'])]  # Remove 'unsup' rows\n",
    "df = df[['review', 'label']]  # Keep only needed columns\n",
    "df = shuffle(df).reset_index(drop=True)"
   ]
  },
  {
   "cell_type": "code",
   "execution_count": 8,
   "id": "a0b85947-41cf-4a88-81e6-aa9791d71659",
   "metadata": {},
   "outputs": [],
   "source": [
    "# 3. Preprocess text\n",
    "lemmatizer = WordNetLemmatizer()\n",
    "stop_words = set(stopwords.words(\"english\"))\n",
    "\n",
    "def preprocess_text(text):\n",
    "    text = re.sub(r'<.*?>', '', text)\n",
    "    text = re.sub(r'[^a-zA-Z]', ' ', text)\n",
    "    text = text.lower()\n",
    "    words = text.split()\n",
    "    words = [lemmatizer.lemmatize(w) for w in words if w not in stop_words]\n",
    "    return \" \".join(words)\n",
    "\n",
    "df['clean_review'] = df['review'].apply(preprocess_text)"
   ]
  },
  {
   "cell_type": "code",
   "execution_count": 9,
   "id": "ebb2d28f-5a3c-4bc3-a3f2-436e99d4a55d",
   "metadata": {},
   "outputs": [],
   "source": [
    "# 4. Encode labels (pos=1, neg=0)\n",
    "le = LabelEncoder()\n",
    "df['label'] = le.fit_transform(df['label'])  # positive=1, negative=0"
   ]
  },
  {
   "cell_type": "code",
   "execution_count": 10,
   "id": "b0d04740-1bb7-4b99-9a18-87980fc54e6d",
   "metadata": {},
   "outputs": [],
   "source": [
    "# 5. Split data\n",
    "X_train, X_test, y_train, y_test = train_test_split(\n",
    "    df['clean_review'], df['label'], test_size=0.2, random_state=42\n",
    ")"
   ]
  },
  {
   "cell_type": "code",
   "execution_count": 11,
   "id": "ff14e026-b3c0-453d-ba89-a3f132e14df3",
   "metadata": {},
   "outputs": [],
   "source": [
    "# 6. TF-IDF Vectorization\n",
    "tfidf = TfidfVectorizer(max_features=5000)  # increased features\n",
    "X_traintf = tfidf.fit_transform(X_train).toarray()\n",
    "X_testtf = tfidf.transform(X_test).toarray()"
   ]
  },
  {
   "cell_type": "code",
   "execution_count": 12,
   "id": "06fd0dae-158b-4c5e-b8f8-ff545c17ff13",
   "metadata": {},
   "outputs": [
    {
     "name": "stderr",
     "output_type": "stream",
     "text": [
      "C:\\Users\\Asus\\anaconda3\\Lib\\site-packages\\keras\\src\\layers\\core\\dense.py:87: UserWarning: Do not pass an `input_shape`/`input_dim` argument to a layer. When using Sequential models, prefer using an `Input(shape)` object as the first layer in the model instead.\n",
      "  super().__init__(activity_regularizer=activity_regularizer, **kwargs)\n"
     ]
    }
   ],
   "source": [
    "# 7. Build a deeper, regularized model\n",
    "model = Sequential()\n",
    "model.add(Dense(256, activation='relu', input_shape=(X_traintf.shape[1],)))\n",
    "model.add(Dropout(0.5))\n",
    "model.add(Dense(128, activation='relu'))\n",
    "model.add(Dropout(0.3))\n",
    "model.add(Dense(64, activation='relu'))\n",
    "model.add(Dense(1, activation='sigmoid'))  # sigmoid for binary classification\n"
   ]
  },
  {
   "cell_type": "code",
   "execution_count": 13,
   "id": "733fdd35-0997-45ac-a14d-0f10ee1fa7c8",
   "metadata": {},
   "outputs": [],
   "source": [
    "# 8. Compile the model\n",
    "model.compile(optimizer='adam', loss='binary_crossentropy', metrics=['accuracy'])"
   ]
  },
  {
   "cell_type": "code",
   "execution_count": 16,
   "id": "13820917-5b86-489b-bf17-72605e23abfe",
   "metadata": {},
   "outputs": [
    {
     "name": "stdout",
     "output_type": "stream",
     "text": [
      "Epoch 1/20\n",
      "\u001b[1m563/563\u001b[0m \u001b[32m━━━━━━━━━━━━━━━━━━━━\u001b[0m\u001b[37m\u001b[0m \u001b[1m16s\u001b[0m 29ms/step - accuracy: 0.9182 - loss: 0.2120 - val_accuracy: 0.8895 - val_loss: 0.2785\n",
      "Epoch 2/20\n",
      "\u001b[1m563/563\u001b[0m \u001b[32m━━━━━━━━━━━━━━━━━━━━\u001b[0m\u001b[37m\u001b[0m \u001b[1m16s\u001b[0m 28ms/step - accuracy: 0.9510 - loss: 0.1387 - val_accuracy: 0.8820 - val_loss: 0.3099\n",
      "Epoch 3/20\n",
      "\u001b[1m563/563\u001b[0m \u001b[32m━━━━━━━━━━━━━━━━━━━━\u001b[0m\u001b[37m\u001b[0m \u001b[1m16s\u001b[0m 28ms/step - accuracy: 0.9745 - loss: 0.0790 - val_accuracy: 0.8813 - val_loss: 0.3714\n",
      "Epoch 4/20\n",
      "\u001b[1m563/563\u001b[0m \u001b[32m━━━━━━━━━━━━━━━━━━━━\u001b[0m\u001b[37m\u001b[0m \u001b[1m16s\u001b[0m 28ms/step - accuracy: 0.9856 - loss: 0.0450 - val_accuracy: 0.8835 - val_loss: 0.4128\n"
     ]
    },
    {
     "data": {
      "text/plain": [
       "<keras.src.callbacks.history.History at 0x1b987b5c610>"
      ]
     },
     "execution_count": 16,
     "metadata": {},
     "output_type": "execute_result"
    }
   ],
   "source": [
    "# 9. Train the model with validation split and early stopping\n",
    "from tensorflow.keras.callbacks import EarlyStopping\n",
    "early_stop = EarlyStopping(monitor='val_loss', patience=3, restore_best_weights=True)\n",
    "\n",
    "model.fit(\n",
    "    X_traintf, y_train,\n",
    "    epochs=20,  # reduce from 100\n",
    "    batch_size=64,\n",
    "    validation_split=0.1,\n",
    "    callbacks=[early_stop],\n",
    "    verbose=1\n",
    ")"
   ]
  },
  {
   "cell_type": "code",
   "execution_count": 17,
   "id": "dc647145-0cd4-43b9-b576-ab0172583182",
   "metadata": {},
   "outputs": [
    {
     "name": "stdout",
     "output_type": "stream",
     "text": [
      "\u001b[1m313/313\u001b[0m \u001b[32m━━━━━━━━━━━━━━━━━━━━\u001b[0m\u001b[37m\u001b[0m \u001b[1m1s\u001b[0m 3ms/step - accuracy: 0.8808 - loss: 0.3004\n",
      "Test Accuracy: 0.8798999786376953\n"
     ]
    }
   ],
   "source": [
    "# 10. Evaluate the model\n",
    "loss, accuracy = model.evaluate(X_testtf, y_test)\n",
    "print(\"Test Accuracy:\", accuracy)"
   ]
  },
  {
   "cell_type": "code",
   "execution_count": 18,
   "id": "05a7d3e5",
   "metadata": {},
   "outputs": [
    {
     "name": "stdout",
     "output_type": "stream",
     "text": [
      "\u001b[1m1/1\u001b[0m \u001b[32m━━━━━━━━━━━━━━━━━━━━\u001b[0m\u001b[37m\u001b[0m \u001b[1m0s\u001b[0m 129ms/step\n",
      "Review: The movie was absolutely fantastic, I loved it!\n",
      "Predicted Sentiment: Positive (Confidence: 1.00)\n",
      "\u001b[1m1/1\u001b[0m \u001b[32m━━━━━━━━━━━━━━━━━━━━\u001b[0m\u001b[37m\u001b[0m \u001b[1m0s\u001b[0m 31ms/step\n",
      "Review: It was a good film, I enjoyed it.\n",
      "Predicted Sentiment: Positive (Confidence: 0.99)\n"
     ]
    },
    {
     "data": {
      "text/plain": [
       "'Positive'"
      ]
     },
     "execution_count": 18,
     "metadata": {},
     "output_type": "execute_result"
    }
   ],
   "source": [
    "# 11. Predict on new review\n",
    "def predict_sentiment(review_text):\n",
    "    # Preprocess the text\n",
    "    clean_text = preprocess_text(review_text)\n",
    "   \n",
    "    # Convert to TF-IDF features (same vectorizer used during training)\n",
    "    vectorized_text = tfidf.transform([clean_text]).toarray()\n",
    "   \n",
    "    # Predict\n",
    "    prediction = model.predict(vectorized_text)[0][0]  # sigmoid output\n",
    "   \n",
    "    # Interpret prediction\n",
    "    sentiment = \"Positive\" if prediction >= 0.5 else \"Negative\"\n",
    "    print(f\"Review: {review_text}\")\n",
    "    print(f\"Predicted Sentiment: {sentiment} (Confidence: {prediction:.2f})\")\n",
    "    return sentiment\n",
    "\n",
    "# Example usage\n",
    "example_review = \"The movie was absolutely fantastic, I loved it!\"\n",
    "predict_sentiment(example_review)\n",
    "\n",
    "example_review2 = \"It was a good film, I enjoyed it.\"\n",
    "predict_sentiment(example_review2)"
   ]
  },
  {
   "cell_type": "code",
   "execution_count": null,
   "id": "35866d95",
   "metadata": {},
   "outputs": [],
   "source": []
  }
 ],
 "metadata": {
  "kernelspec": {
   "display_name": "Python 3 (ipykernel)",
   "language": "python",
   "name": "python3"
  },
  "language_info": {
   "codemirror_mode": {
    "name": "ipython",
    "version": 3
   },
   "file_extension": ".py",
   "mimetype": "text/x-python",
   "name": "python",
   "nbconvert_exporter": "python",
   "pygments_lexer": "ipython3",
   "version": "3.11.5"
  }
 },
 "nbformat": 4,
 "nbformat_minor": 5
}
